{
 "cells": [
  {
   "cell_type": "markdown",
   "metadata": {},
   "source": [
    "# Assignment 2 "
   ]
  },
  {
   "cell_type": "markdown",
   "metadata": {},
   "source": [
    "## Question 1 and 2"
   ]
  },
  {
   "cell_type": "code",
   "execution_count": 1,
   "metadata": {},
   "outputs": [],
   "source": [
    "from dataclasses import dataclass\n",
    "from typing import Tuple, Dict\n",
    "from rl.markov_process import MarkovProcess\n",
    "from rl.markov_process import FiniteMarkovProcess\n",
    "from rl.markov_process import Transition\n",
    "from rl.distribution import SampledDistribution, Categorical, Constant\n",
    "\n",
    "import itertools\n",
    "import numpy as np\n",
    "from matplotlib import pyplot as plt"
   ]
  },
  {
   "cell_type": "code",
   "execution_count": 2,
   "metadata": {},
   "outputs": [],
   "source": [
    "@dataclass(frozen=True)\n",
    "class PawnState:\n",
    "    position: int\n",
    "        \n",
    "\n",
    "class SnakesAndLaddersMPFinite(FiniteMarkovProcess[PawnState]):\n",
    "    \n",
    "    def __init__(\n",
    "        self,\n",
    "        length: int,\n",
    "        die: int,\n",
    "        snakes:  Dict[int, int],\n",
    "        ladders:  Dict[int, int]\n",
    "        ):\n",
    "        self.length: int = length\n",
    "        self.die: int = die\n",
    "        self.snakes: Dict[int, int] = snakes\n",
    "        self.ladders: Dict[int, int] = ladders\n",
    "        \n",
    "        self.start_state = Constant(PawnState(1))\n",
    "\n",
    "        super().__init__(self.get_transition_map())\n",
    "        \n",
    "    def get_transition_map(self) -> Transition[PawnState]:\n",
    "        d: Dict[PawnState, Categorical[PawnState]] = {}\n",
    "        # iterate through all locations except for the last position which is a terminal state\n",
    "        for start in range(1,self.length):\n",
    "            s: PawnState = PawnState(start)\n",
    "            s_prob_map: Mapping[PawnState, float] = {} \n",
    "            # iterate through all die faces\n",
    "            for jump in range(1,self.die+1):\n",
    "                # assuming that we start at location 1 and that there is no snake or ladder\n",
    "                # at the starting point\n",
    "                land: int = min(start + jump, self.length)\n",
    "                # go through snakes and ladders\n",
    "                while ((land in self.snakes) or \\\n",
    "                       (land in self.ladders)):\n",
    "                    if (land in self.snakes):\n",
    "                        land = self.snakes[land]\n",
    "                    else:\n",
    "                        land = self.ladders[land]\n",
    "                s_prime: PawnState = PawnState(land)\n",
    "                s_prob_map[s_prime] = s_prob_map[s_prime] + 1/self.die if s_prime in s_prob_map \\\n",
    "                                      else 1/self.die\n",
    "            d[s] = Categorical(s_prob_map)\n",
    "        # have the map return non for the terminal state\n",
    "        d[PawnState(self.length)] = None\n",
    "        return d\n",
    "                    \n",
    "        \n",
    "\n",
    "\n",
    "def snl_traces(\n",
    "    snl_mp: SnakesAndLaddersMPFinite,\n",
    "    num_traces: int\n",
    ")->np.ndarray:\n",
    "    return np.hstack([\n",
    "        len([s for s in snl_mp.simulate(snl_mp.start_state)])-1\\\n",
    "        for _ in range(num_traces)])\n",
    "     "
   ]
  },
  {
   "cell_type": "code",
   "execution_count": 3,
   "metadata": {},
   "outputs": [
    {
     "name": "stdout",
     "output_type": "stream",
     "text": [
      "Sample mean of the number of jumps\n",
      "----------------------------------\n",
      "33.541  jumps\n"
     ]
    },
    {
     "data": {
      "image/png": "[encoded data removed]",
      "text/plain": [
       "<Figure size 432x288 with 1 Axes>"
      ]
     },
     "metadata": {
      "needs_background": "light"
     },
     "output_type": "display_data"
    }
   ],
   "source": [
    "if __name__ == '__main__':\n",
    "    user_length = 100\n",
    "    user_die = 6\n",
    "    user_snakes:  Dict[int, int] = {16:6,47:26,49:11,56:53,64:60,87:24,93:73,95:75,98:78}\n",
    "    user_ladders:  Dict[int, int] = {1:38,4:14,9:31,21:42,28:84,36:44,51:67,71:91,80:100}\n",
    "    snl_mp_  = SnakesAndLaddersMPFinite(length  = user_length, \n",
    "                                         die     = user_die,\n",
    "                                         snakes  = user_snakes,\n",
    "                                         ladders = user_ladders)\n",
    "    # compute the traces\n",
    "    traces = snl_traces(\n",
    "        snl_mp = snl_mp_,\n",
    "        num_traces = 1000)\n",
    "    \n",
    "    # plot\n",
    "    fig, ax = plt.subplots()\n",
    "    _ = ax.hist(traces, bins=25)\n",
    "    ax.axvline(traces.mean(),c=\"r\")\n",
    "    \n",
    "    print(\"Sample mean of the number of jumps\")\n",
    "    print(\"----------------------------------\")\n",
    "    print(traces.mean(), \" jumps\")"
   ]
  },
  {
   "cell_type": "markdown",
   "metadata": {},
   "source": [
    "# Question 3"
   ]
  },
  {
   "cell_type": "code",
   "execution_count": 4,
   "metadata": {},
   "outputs": [],
   "source": [
    "@dataclass(frozen=True)\n",
    "class FrogState:\n",
    "    position: int\n",
    "        \n",
    "\n",
    "class FrogPuzzleMPFinite(FiniteMarkovProcess[PawnState]):\n",
    "    \n",
    "    def __init__(\n",
    "        self,\n",
    "        length: int,\n",
    "        ):\n",
    "        self.length: int = length\n",
    "        self.start_state = Constant(FrogState(0))\n",
    "        super().__init__(self.get_transition_map())\n",
    "        \n",
    "    def get_transition_map(self) -> Transition[FrogState]:\n",
    "        d: Dict[Frog, Categorical[FrogState]] = {}\n",
    "        # iterate through all locations except for the last position which is a terminal state\n",
    "        for start in range(0,self.length):\n",
    "            s: FrogState = FrogState(start)\n",
    "            s_prob_map: Mapping[FrogState, float] = {}\n",
    "            p: float = 1/(self.length-start)\n",
    "            # iterate through all possible jumps\n",
    "            for jump in range(1,self.length-start+1):\n",
    "                # assuming that we start at location 1 and that there is no snake or ladder\n",
    "                # at the starting point\n",
    "                s_prime: FrogState = FrogState(start+jump)\n",
    "                s_prob_map[s_prime] = p\n",
    "            d[s] = Categorical(s_prob_map)\n",
    "        # have the map return None for the terminal state\n",
    "        d[FrogState(self.length)] = None\n",
    "        return d\n",
    "\n",
    "\n",
    "def fp_traces(\n",
    "    fp_mp: FrogPuzzleMPFinite,\n",
    "    num_traces: int\n",
    ")->np.ndarray:\n",
    "    return np.hstack([\n",
    "        len([s for s in fp_mp.simulate(fp_mp.start_state)])-1\\\n",
    "        for _ in range(num_traces)])\n",
    "    \n",
    "        \n",
    "        \n",
    "        "
   ]
  },
  {
   "cell_type": "code",
   "execution_count": 5,
   "metadata": {},
   "outputs": [
    {
     "name": "stdout",
     "output_type": "stream",
     "text": [
      "Sample mean of the number of jumps\n",
      "----------------------------------\n",
      "2.9116  jumps\n"
     ]
    },
    {
     "data": {
      "image/png": "[encoded data removed]",
      "text/plain": [
       "<Figure size 432x288 with 1 Axes>"
      ]
     },
     "metadata": {
      "needs_background": "light"
     },
     "output_type": "display_data"
    }
   ],
   "source": [
    "if __name__ == '__main__':\n",
    "    user_length = 10\n",
    "    fp_mp_  = FrogPuzzleMPFinite(length = user_length)\n",
    "    \n",
    "    traces = fp_traces(\n",
    "        fp_mp = fp_mp_,\n",
    "        num_traces = 10000)\n",
    "    \n",
    "    bins = np.arange(0, traces.max() + 1.5) - 0.5\n",
    "    fig, ax = plt.subplots()\n",
    "    _ = ax.hist(traces, bins)\n",
    "    ax.axvline(traces.mean(),c=\"r\")\n",
    "    ax.set_xticks(bins + 0.5)\n",
    "    \n",
    "    print(\"Sample mean of the number of jumps\")\n",
    "    print(\"----------------------------------\")\n",
    "    print(traces.mean(), \" jumps\")"
   ]
  },
  {
   "cell_type": "markdown",
   "metadata": {},
   "source": [
    "# Question 4"
   ]
  },
  {
   "cell_type": "code",
   "execution_count": 6,
   "metadata": {},
   "outputs": [],
   "source": [
    "# dependencies\n",
    "from dataclasses import dataclass\n",
    "from typing import Tuple, Dict\n",
    "from rl.markov_process import MarkovRewardProcess\n",
    "from rl.markov_process import FiniteMarkovRewardProcess\n",
    "from rl.markov_process import RewardTransition\n",
    "from rl.distribution import SampledDistribution, Categorical\n",
    "import numpy as np"
   ]
  },
  {
   "cell_type": "code",
   "execution_count": 7,
   "metadata": {},
   "outputs": [],
   "source": [
    "@dataclass(frozen=True)\n",
    "class PawnState:\n",
    "    position: int\n",
    "        \n",
    "class  SnakesAndLaddersMRPFinite(FiniteMarkovRewardProcess[PawnState]):\n",
    "    \n",
    "    def __init__(\n",
    "        self,\n",
    "        length: int,\n",
    "        die: int,\n",
    "        snakes:  Dict[int, int],\n",
    "        ladders:  Dict[int, int]\n",
    "        ):\n",
    "        self.length: int = length\n",
    "        self.die: int = die\n",
    "        self.snakes: Dict[int, int] = snakes\n",
    "        self.ladders: Dict[int, int] = ladders\n",
    "        \n",
    "        self.start_state = Constant(PawnState(1))\n",
    "\n",
    "        super().__init__(self.get_transition_reward_map())\n",
    "        \n",
    "    def get_transition_reward_map(self) -> RewardTransition[PawnState]:\n",
    "        d: Dict[PawnState, Categorical[Tuple[PawnState, int]]] = {}\n",
    "        # iterate through all locations except for the last position which is a terminal state\n",
    "        for start in range(1,self.length):\n",
    "            s: PawnState = PawnState(start)\n",
    "            s_prob_map: Mapping[Tuple[PawnState, int], float] = {} \n",
    "            # iterate through all 6 die faces\n",
    "            for jump in range(1,self.die+1):\n",
    "                # assuming that we start at location 1 and that there is no snake or ladder\n",
    "                # at the starting point\n",
    "                land: int = min(start + jump, self.length)\n",
    "                # go through snakes and ladders\n",
    "                while ((land in self.snakes) or \\\n",
    "                       (land in self.ladders)):\n",
    "                    if (land in self.snakes):\n",
    "                        land = self.snakes[land]\n",
    "                    else:\n",
    "                        land = self.ladders[land]\n",
    "                s_prime: PawnState = PawnState(land)\n",
    "                s_prob_map[(s_prime,1)] = s_prob_map[s_prime] + 1/self.die+1 if s_prime in s_prob_map \\\n",
    "                                      else 1/self.die+1\n",
    "            d[s] = Categorical(s_prob_map)\n",
    "        # have the map return non for the terminal state\n",
    "        d[PawnState(self.length)] = None\n",
    "        return d"
   ]
  },
  {
   "cell_type": "code",
   "execution_count": 8,
   "metadata": {},
   "outputs": [
    {
     "name": "stdout",
     "output_type": "stream",
     "text": [
      "Sample mean of the number of jumps\n",
      "----------------------------------\n",
      "35.215  jumps\n",
      "\n",
      " Expected number of jumps remaining\n",
      "----------------------------------\n",
      "{PawnState(position=5): 34.446,\n",
      " PawnState(position=2): 34.882,\n",
      " PawnState(position=3): 34.34,\n",
      " PawnState(position=1): 35.061,\n",
      " PawnState(position=32): 30.907,\n",
      " PawnState(position=33): 30.689,\n",
      " PawnState(position=34): 30.434,\n",
      " PawnState(position=37): 30.118,\n",
      " PawnState(position=35): 30.24,\n",
      " PawnState(position=36): 30.283,\n",
      " PawnState(position=38): 29.834,\n",
      " PawnState(position=39): 29.38,\n",
      " PawnState(position=40): 28.904,\n",
      " PawnState(position=42): 28.393,\n",
      " PawnState(position=41): 29.071,\n",
      " PawnState(position=48): 24.321,\n",
      " PawnState(position=49): 22.324,\n",
      " PawnState(position=50): 22.157,\n",
      " PawnState(position=51): 22.743,\n",
      " PawnState(position=53): 22.176,\n",
      " PawnState(position=52): 22.386,\n",
      " PawnState(position=22): 29.113,\n",
      " PawnState(position=23): 29.492,\n",
      " PawnState(position=24): 29.743,\n",
      " PawnState(position=25): 29.935,\n",
      " PawnState(position=26): 30.074,\n",
      " PawnState(position=6): 34.254,\n",
      " PawnState(position=7): 34.037,\n",
      " PawnState(position=8): 33.805,\n",
      " PawnState(position=9): 33.93,\n",
      " PawnState(position=10): 33.976,\n",
      " PawnState(position=43): 29.125,\n",
      " PawnState(position=44): 28.129,\n",
      " PawnState(position=45): 26.659,\n",
      " PawnState(position=46): 26.048,\n",
      " PawnState(position=47): 24.732,\n",
      " PawnState(position=11): 33.517,\n",
      " PawnState(position=12): 33.104,\n",
      " PawnState(position=13): 32.735,\n",
      " PawnState(position=14): 32.41,\n",
      " PawnState(position=15): 31.836,\n",
      " PawnState(position=27): 30.162,\n",
      " PawnState(position=28): 32.022,\n",
      " PawnState(position=29): 31.767,\n",
      " PawnState(position=30): 31.248,\n",
      " PawnState(position=31): 31.086,\n",
      " PawnState(position=59): 20.131,\n",
      " PawnState(position=60): 19.912,\n",
      " PawnState(position=61): 19.615,\n",
      " PawnState(position=62): 19.311,\n",
      " PawnState(position=63): 19.027,\n",
      " PawnState(position=54): 21.853,\n",
      " PawnState(position=55): 21.533,\n",
      " PawnState(position=56): 21.056,\n",
      " PawnState(position=57): 20.766,\n",
      " PawnState(position=58): 20.599,\n",
      " PawnState(position=16): 30.979,\n",
      " PawnState(position=17): 30.767,\n",
      " PawnState(position=18): 30.62,\n",
      " PawnState(position=19): 30.523,\n",
      " PawnState(position=20): 30.458,\n",
      " PawnState(position=21): 30.753,\n",
      " PawnState(position=64): 18.588,\n",
      " PawnState(position=65): 17.789,\n",
      " PawnState(position=66): 17.816,\n",
      " PawnState(position=67): 17.836,\n",
      " PawnState(position=68): 17.486,\n",
      " PawnState(position=69): 17.322,\n",
      " PawnState(position=70): 17.277,\n",
      " PawnState(position=71): 18.021,\n",
      " PawnState(position=72): 17.977,\n",
      " PawnState(position=73): 17.953,\n",
      " PawnState(position=74): 15.389,\n",
      " PawnState(position=75): 16.34,\n",
      " PawnState(position=76): 17.007,\n",
      " PawnState(position=77): 17.457,\n",
      " PawnState(position=78): 17.717,\n",
      " PawnState(position=79): 17.811,\n",
      " PawnState(position=80): 20.762,\n",
      " PawnState(position=81): 22.045,\n",
      " PawnState(position=82): 21.013,\n",
      " PawnState(position=83): 20.159,\n",
      " PawnState(position=84): 19.273,\n",
      " PawnState(position=85): 18.377,\n",
      " PawnState(position=86): 17.705,\n",
      " PawnState(position=87): 15.74,\n",
      " PawnState(position=88): 14.819,\n",
      " PawnState(position=89): 15.037,\n",
      " PawnState(position=90): 13.958,\n",
      " PawnState(position=91): 12.998,\n",
      " PawnState(position=92): 13.673,\n",
      " PawnState(position=93): 10.847,\n",
      " PawnState(position=94): 9.297,\n",
      " PawnState(position=95): 7.689,\n",
      " PawnState(position=96): 7.489,\n",
      " PawnState(position=97): 7.239,\n",
      " PawnState(position=98): 1.5,\n",
      " PawnState(position=99): 1.0,\n",
      " PawnState(position=4): 34.601}\n"
     ]
    },
    {
     "data": {
      "image/png": "[encoded data removed]",
      "text/plain": [
       "<Figure size 432x288 with 1 Axes>"
      ]
     },
     "metadata": {
      "needs_background": "light"
     },
     "output_type": "display_data"
    }
   ],
   "source": [
    "if __name__ == '__main__':\n",
    "    user_length = 100\n",
    "    user_die = 6\n",
    "    user_snakes:  Dict[int, int] = {16:6,47:26,49:11,56:53,64:60,87:24,93:73,95:75,98:78}\n",
    "    user_ladders:  Dict[int, int] = {1:38,4:14,9:31,21:42,28:84,36:44,51:67,71:91,80:100}\n",
    "    snl_mrp_  = SnakesAndLaddersMRPFinite(length  = user_length, \n",
    "                                          die     = user_die,\n",
    "                                          snakes  = user_snakes,\n",
    "                                          ladders = user_ladders)\n",
    "\n",
    "    # compute the traces\n",
    "    traces = snl_traces(\n",
    "        snl_mp = snl_mrp_,\n",
    "        num_traces = 1000)\n",
    "    \n",
    "    # plot\n",
    "    fig, ax = plt.subplots()\n",
    "    _ = ax.hist(traces, bins=25)\n",
    "    ax.axvline(traces.mean(),c=\"r\")\n",
    "        \n",
    "    print(\"Sample mean of the number of jumps\")\n",
    "    print(\"----------------------------------\")\n",
    "    print(traces.mean(), \" jumps\")\n",
    "    \n",
    "    print(\"\\n\",\"Expected number of jumps remaining\")\n",
    "    print(\"----------------------------------\")\n",
    "    snl_mrp_.display_value_function(gamma=1)"
   ]
  },
  {
   "cell_type": "markdown",
   "metadata": {},
   "source": [
    "# Question 5"
   ]
  }
 ],
 "metadata": {
  "kernelspec": {
   "display_name": "Python 3",
   "language": "python",
   "name": "python3"
  },
  "language_info": {
   "codemirror_mode": {
    "name": "ipython",
    "version": 3
   },
   "file_extension": ".py",
   "mimetype": "text/x-python",
   "name": "python",
   "nbconvert_exporter": "python",
   "pygments_lexer": "ipython3",
   "version": "3.8.7"
  }
 },
 "nbformat": 4,
 "nbformat_minor": 4
}
