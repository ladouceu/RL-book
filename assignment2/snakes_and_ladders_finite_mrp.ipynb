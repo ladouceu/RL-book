{
 "cells": [
  {
   "cell_type": "code",
   "execution_count": null,
   "metadata": {},
   "outputs": [],
   "source": [
    "from dataclasses import dataclass\n",
    "from typing import Tuple, Dict\n",
    "from rl.markov_process import MarkovRewardProcess\n",
    "from rl.markov_process import FiniteMarkovRewardProcess\n",
    "from rl.markov_process import RewardTransition\n",
    "from scipy.stats import poisson\n",
    "from rl.distribution import SampledDistribution, Categorical\n",
    "import numpy as np\n",
    "\n",
    "@dataclass(frozen=True)\n",
    "class PawnState:\n",
    "    location: int\n",
    "\n",
    "Snakes  = Dict[int, int]\n",
    "Ladders = Dict[int, int]\n",
    "\n",
    "class SnakesAndLaddersMRPFinite(FiniteMarkovRewardProcess[PawnState]):\n",
    "    \n",
    "    def __init__(\n",
    "        self,\n",
    "        width: int,\n",
    "        height: int,\n",
    "        snakes: Snakes,\n",
    "        ladders: Ladders\n",
    "        ):\n",
    "        self.width: int = width\n",
    "        self.height: int = height\n",
    "        self.snakes: Snakes = snakes\n",
    "        self.ladders: Ladders = ladders\n",
    "    "
   ]
  }
 ],
 "metadata": {
  "kernelspec": {
   "display_name": "Python 3",
   "language": "python",
   "name": "python3"
  },
  "language_info": {
   "codemirror_mode": {
    "name": "ipython",
    "version": 3
   },
   "file_extension": ".py",
   "mimetype": "text/x-python",
   "name": "python",
   "nbconvert_exporter": "python",
   "pygments_lexer": "ipython3",
   "version": "3.8.7"
  }
 },
 "nbformat": 4,
 "nbformat_minor": 4
}
