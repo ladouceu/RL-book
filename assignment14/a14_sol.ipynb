{
 "cells": [
  {
   "cell_type": "code",
   "execution_count": 14,
   "metadata": {},
   "outputs": [],
   "source": [
    "import numpy as np\n",
    "from typing import (Iterator, TypeVar, Sequence, Callable)\n",
    "from rl.markov_process import TransitionStep"
   ]
  },
  {
   "cell_type": "code",
   "execution_count": 17,
   "metadata": {},
   "outputs": [],
   "source": [
    "S = TypeVar('S')\n",
    "\n",
    "\n",
    "def LSTD(features: Sequence[Callable[[S], float]],\n",
    "         data_gen: Iterator[TransitionStep[S]],\n",
    "         gamma: float\n",
    "        ) -> Iterator[np.ndarray]:\n",
    "    A: np.ndarray = np.zeros((w.size(), w.size()))\n",
    "    b: np.ndarray = np.zeros(w.size())\n",
    "    \n",
    "    while(True):\n",
    "        step: TransitionStep[S] = data_gen.__next__()\n",
    "        x:  np.ndarray = np.array([[f(step.state) for f in features]]).T\n",
    "        x_: np.ndarray = np.array([[f(step.next_state) for f in features]]).T\n",
    "        A += x @ (x - gamma * x_).T\n",
    "        b += step.reward * x\n",
    "        w: np.ndarray = np.linalg.solve(A, b)\n",
    "        yield w"
   ]
  },
  {
   "cell_type": "code",
   "execution_count": null,
   "metadata": {},
   "outputs": [],
   "source": []
  }
 ],
 "metadata": {
  "kernelspec": {
   "display_name": "Python 3",
   "language": "python",
   "name": "python3"
  },
  "language_info": {
   "codemirror_mode": {
    "name": "ipython",
    "version": 3
   },
   "file_extension": ".py",
   "mimetype": "text/x-python",
   "name": "python",
   "nbconvert_exporter": "python",
   "pygments_lexer": "ipython3",
   "version": "3.8.7"
  }
 },
 "nbformat": 4,
 "nbformat_minor": 4
}
