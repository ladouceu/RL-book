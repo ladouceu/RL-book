{
 "cells": [
  {
   "cell_type": "code",
   "execution_count": null,
   "metadata": {},
   "outputs": [],
   "source": [
    "import numpy as np\n",
    "from typing import TypeVar, Callable, Tuple\n",
    "from rl.markov_process import TransitionStep\n",
    "\n",
    "S = TypeVar('S')\n",
    "\n",
    "def TDC(steps: Iterator[TransitionStep[S]],\n",
    "        features: Callable[S],\n",
    "        alpha: float,\n",
    "        beta:  float,\n",
    "        gamma: float\n",
    "       ) -> Iterator[Tuple[np.ndarray,np.ndarray]] :\n",
    "    # initialize w and theta\n",
    "    w = np.random.uniform(0,1,len(features))\n",
    "    theta = np.random.uniform(0,1,len(features))\n",
    "    \n",
    "    # iterate and update\n",
    "    for step in steps:\n",
    "        x = [f(step.state) for f in features]\n",
    "        x_ = [f(step.next_state) for f in features]\n",
    "        delta = step.reward + gamma * w @ x_ - w @ x \n",
    "        # update w\n",
    "        w -= alpha * delta * x + alpha * gamma * x_ * (theta @ x)\n",
    "        # update theta\n",
    "        theta -= beta * (delta - theta @ x) * x\n",
    "        yield (w,theta)\n",
    "    \n",
    "    "
   ]
  }
 ],
 "metadata": {
  "kernelspec": {
   "display_name": "Python 3",
   "language": "python",
   "name": "python3"
  },
  "language_info": {
   "codemirror_mode": {
    "name": "ipython",
    "version": 3
   },
   "file_extension": ".py",
   "mimetype": "text/x-python",
   "name": "python",
   "nbconvert_exporter": "python",
   "pygments_lexer": "ipython3",
   "version": "3.8.7"
  }
 },
 "nbformat": 4,
 "nbformat_minor": 4
}
