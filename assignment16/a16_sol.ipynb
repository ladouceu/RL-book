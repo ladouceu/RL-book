{
 "cells": [
  {
   "cell_type": "code",
   "execution_count": 1,
   "metadata": {},
   "outputs": [
    {
     "ename": "SyntaxError",
     "evalue": "invalid syntax (<ipython-input-1-874f28535cd0>, line 9)",
     "output_type": "error",
     "traceback": [
      "\u001b[0;36m  File \u001b[0;32m\"<ipython-input-1-874f28535cd0>\"\u001b[0;36m, line \u001b[0;32m9\u001b[0m\n\u001b[0;31m    def REINFORCE(traces: Iterator[StepTransition[S,A]])\u001b[0m\n\u001b[0m                                                        ^\u001b[0m\n\u001b[0;31mSyntaxError\u001b[0m\u001b[0;31m:\u001b[0m invalid syntax\n"
     ]
    }
   ],
   "source": [
    "import numpy as np\n",
    "from typing import (Iterator, TypeVar, Sequence, Callable, Dict)\n",
    "from rl.distribution import Categorical\n",
    "import itertools\n",
    "\n",
    "S = TypeVar('S')\n",
    "A = TypeVar('A')\n",
    "\n",
    "def REINFORCE(sample_dist: Categorical[S],\n",
    "              features: Sequence[Callable[[S,A],float]],\n",
    "              state_actions: Dict[S, Optional[Sequence[A]]]\n",
    "             ) -> Iterator[np.ndarray]:\n",
    "    \n",
    "    \n",
    "    theta = np.random.uniform(0,1,len(features))\n",
    "    \n",
    "    while(True):\n",
    "        # sample the initial state\n",
    "        s:S = sample_dist.sample()\n",
    "        # build pi\n",
    "        \n",
    "        # build score function (softmax)\n",
    "        \n",
    "        while(True):\n",
    "            x = np.array([[f() for f in features]]).T\n",
    "            x_ = np.array([[f(step.next_state) for f in features]]).T\n",
    "            np.exp()\n",
    "            score_fn = (a - x.T @ theta) / sigma_sq * x"
   ]
  },
  {
   "cell_type": "code",
   "execution_count": null,
   "metadata": {},
   "outputs": [],
   "source": []
  }
 ],
 "metadata": {
  "kernelspec": {
   "display_name": "Python 3",
   "language": "python",
   "name": "python3"
  },
  "language_info": {
   "codemirror_mode": {
    "name": "ipython",
    "version": 3
   },
   "file_extension": ".py",
   "mimetype": "text/x-python",
   "name": "python",
   "nbconvert_exporter": "python",
   "pygments_lexer": "ipython3",
   "version": "3.8.7"
  }
 },
 "nbformat": 4,
 "nbformat_minor": 4
}
