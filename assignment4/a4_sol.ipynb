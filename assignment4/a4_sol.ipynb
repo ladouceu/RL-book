{
 "cells": [
  {
   "cell_type": "code",
   "execution_count": 2,
   "metadata": {},
   "outputs": [],
   "source": [
    "from dataclasses import dataclass\n",
    "import numpy as np\n",
    "from typing import Dict, Iterator, List, Tuple\n",
    "\n",
    "\n",
    "\n",
    "@dataclass(frozen=True)\n",
    "class job_mdp:\n",
    "    wage0            : float\n",
    "    job_prob_wage    : List[Tuple[float,float]]\n",
    "    alpha            : float\n",
    "    \n",
    "    @dataclass(frozen=True)\n",
    "    class employment_state: \n",
    "        is_employed : bool\n",
    "        job_number  : int\n",
    "\n",
    "    @dataclass(frozen=True)\n",
    "    class offer_decision_action:\n",
    "        is_accepted : bool\n",
    "    \n",
    "    def get_transition_prob(self,\n",
    "                            current_state : employment_state,\n",
    "                            action        : offer_decision_action,\n",
    "                            next_state    : employment_state) -> float : \n",
    "        \n",
    "        if (current_state.is_employed) {\n",
    "            if (next_state.job_number == current_state.job_number) {\n",
    "                return 1. - alpha\n",
    "            }\n",
    "            else {\n",
    "                return alpha * job_prob_wage[next_state.job_number][0]\n",
    "            }\n",
    "        }\n",
    "        else {\n",
    "            if (offer_decision_action.is_accepted) {\n",
    "                if (next_state.job_number == current_state.job_number) {\n",
    "                    return 1. - alpha\n",
    "                } \n",
    "                else {\n",
    "                    return alpha * job_prob_wage[next_state.job_number][0]\n",
    "                }\n",
    "            }\n",
    "            else {\n",
    "                return job_prob_wage[next_state.job_number][0]\n",
    "            }\n",
    "        }\n",
    "    \n",
    "\n",
    "    def get_reward(self,\n",
    "                   current_state : employment_state,\n",
    "                   action        : bool,\n",
    "                   next_state    : employment_state) -> float :\n",
    "        if ((not current_state.is_employed) and \n",
    "            (not offer_decision_action.is_accepted)) {\n",
    "            return wage0\n",
    "        }\n",
    "        else {\n",
    "            return job_prob_wage[next_state.job_number][1]\n",
    "        }\n",
    "    \n",
    "    def value_iterate(self) -> Iterator[\n",
    "    \n",
    "    def value_iteration(self,\n",
    "                        threshold: float = 0.01) : \n",
    "    "
   ]
  },
  {
   "cell_type": "code",
   "execution_count": 6,
   "metadata": {},
   "outputs": [],
   "source": [
    "a = job_mdp([(1,2),(1,2)],3)"
   ]
  },
  {
   "cell_type": "code",
   "execution_count": 7,
   "metadata": {},
   "outputs": [
    {
     "data": {
      "text/plain": [
       "job_mdp(job_prob_wage=[(1, 2), (1, 2)], alpha=3)"
      ]
     },
     "execution_count": 7,
     "metadata": {},
     "output_type": "execute_result"
    }
   ],
   "source": [
    "a"
   ]
  },
  {
   "cell_type": "code",
   "execution_count": null,
   "metadata": {},
   "outputs": [],
   "source": []
  }
 ],
 "metadata": {
  "kernelspec": {
   "display_name": "Python 3",
   "language": "python",
   "name": "python3"
  },
  "language_info": {
   "codemirror_mode": {
    "name": "ipython",
    "version": 3
   },
   "file_extension": ".py",
   "mimetype": "text/x-python",
   "name": "python",
   "nbconvert_exporter": "python",
   "pygments_lexer": "ipython3",
   "version": "3.8.7"
  }
 },
 "nbformat": 4,
 "nbformat_minor": 4
}
